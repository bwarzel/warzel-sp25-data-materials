{
 "cells": [
  {
   "cell_type": "code",
   "execution_count": 1,
   "id": "ecf54984-1291-4373-92d8-51f966abdd70",
   "metadata": {},
   "outputs": [],
   "source": [
    "professions = ['married', 'laborer', 'widow', 'laborer', ]\n",
    "child_status = ['Child Alana 10 days', 'Catherine 2 mos', '', 'Charles Riley afed 10 days' ]\n",
    "gender = ['f', 'm', 'w', 'm']"
   ]
  },
  {
   "cell_type": "markdown",
   "id": "7645f898-fd37-4e07-8538-a39d638e8652",
   "metadata": {},
   "source": [
    "Extract the second item in the list professions."
   ]
  },
  {
   "cell_type": "code",
   "execution_count": 3,
   "id": "c92df7d8-1529-42e3-b3e5-fff09e616712",
   "metadata": {},
   "outputs": [
    {
     "data": {
      "text/plain": [
       "'laborer'"
      ]
     },
     "execution_count": 3,
     "metadata": {},
     "output_type": "execute_result"
    }
   ],
   "source": [
    "professions[3]"
   ]
  },
  {
   "cell_type": "markdown",
   "id": "1d56efe6-41f1-4501-82ee-41c6a687fd7d",
   "metadata": {},
   "source": [
    "Add the item “spinster” to your professions list, then print the list."
   ]
  },
  {
   "cell_type": "code",
   "execution_count": 5,
   "id": "0e05f6e9-5364-4fb0-a4cf-b1e5858bb6b5",
   "metadata": {},
   "outputs": [
    {
     "name": "stdout",
     "output_type": "stream",
     "text": [
      "['married', 'laborer', 'widow', 'laborer', 'spinster']\n"
     ]
    }
   ],
   "source": [
    "professions.append(\"spinster\")\n",
    "print(professions)"
   ]
  },
  {
   "cell_type": "markdown",
   "id": "70675d75-9fda-4f8e-91ef-56436c3de8b7",
   "metadata": {},
   "source": [
    "Make a for loop that considers each item in the professions list and prints “Person’s profession is ___”"
   ]
  },
  {
   "cell_type": "code",
   "execution_count": 7,
   "id": "accd0b5d-4fc2-40c5-8d0a-89352c3db7eb",
   "metadata": {},
   "outputs": [
    {
     "name": "stdout",
     "output_type": "stream",
     "text": [
      "Persons profession is married\n",
      "Persons profession is laborer\n",
      "Persons profession is widow\n",
      "Persons profession is laborer\n",
      "Persons profession is spinster\n"
     ]
    }
   ],
   "source": [
    "for profession in professions:\n",
    "    print(f\"Persons profession is {profession}\")"
   ]
  },
  {
   "cell_type": "markdown",
   "id": "aec684a4-7928-426e-9155-ae5a994ffbb6",
   "metadata": {},
   "source": [
    "Extract the fourth item in the child_status list."
   ]
  },
  {
   "cell_type": "code",
   "execution_count": 11,
   "id": "b99d0e9e-6166-4cb3-8337-0fc6cb7a3066",
   "metadata": {},
   "outputs": [
    {
     "data": {
      "text/plain": [
       "'Charles Riley afed 10 days'"
      ]
     },
     "execution_count": 11,
     "metadata": {},
     "output_type": "execute_result"
    }
   ],
   "source": [
    "child_status[3]"
   ]
  },
  {
   "cell_type": "markdown",
   "id": "843aac7d-8b0e-453b-9db8-a007ba028c4c",
   "metadata": {},
   "source": [
    "Make a for loop that considers each item in the child_status list and prints “Person has child” if the person has a child and “Person does not have child” if not"
   ]
  },
  {
   "cell_type": "code",
   "execution_count": 13,
   "id": "ae628c4a-0cb9-4c6d-8ae8-6166ba087272",
   "metadata": {},
   "outputs": [
    {
     "name": "stdout",
     "output_type": "stream",
     "text": [
      "Person has a child\n",
      "Person has a child\n",
      "Person has a child\n",
      "Person has a child\n",
      "Person does not have a child\n"
     ]
    }
   ],
   "source": [
    "for child in child_status:\n",
    "    print('Person has a child')\n",
    "else:\n",
    "    print('Person does not have a child')"
   ]
  },
  {
   "cell_type": "markdown",
   "id": "4323b455-2c95-4b71-93ed-6aa97975ea15",
   "metadata": {},
   "source": [
    "Add an item to the list gender called “not known”"
   ]
  },
  {
   "cell_type": "code",
   "execution_count": null,
   "id": "58e29f8c-9bd1-4ae8-b28a-d9837ced11bc",
   "metadata": {},
   "outputs": [],
   "source": []
  },
  {
   "cell_type": "code",
   "execution_count": null,
   "id": "952c62ee-cc4b-4cc0-9a4c-aaf7cb408ef5",
   "metadata": {},
   "outputs": [],
   "source": []
  },
  {
   "cell_type": "code",
   "execution_count": 15,
   "id": "84f3468a-6530-44c1-8c05-5e4c796f7147",
   "metadata": {},
   "outputs": [],
   "source": [
    "gender.append('not known')"
   ]
  },
  {
   "cell_type": "markdown",
   "id": "79146103-9413-4284-b00f-efce009da327",
   "metadata": {},
   "source": [
    "Make a for loop that considers each item in the gender list and prints “Person is male” if the person is male, “Person is female” if the person is female, and “Person’s gender is not known” if unknown"
   ]
  },
  {
   "cell_type": "markdown",
   "id": "764461a3-79c4-41db-870c-fbf858dd0dbf",
   "metadata": {},
   "source": [
    "for m in gender:\n",
    "    print(\"Person is male\")\n",
    "for f in gender:\n",
    "    print(\"Person is female\")\n",
    "else:\n",
    "    print(\"Not known\")"
   ]
  },
  {
   "cell_type": "code",
   "execution_count": 19,
   "id": "9454226c-b54e-427f-b2b0-fb245c57f2df",
   "metadata": {},
   "outputs": [
    {
     "data": {
      "text/plain": [
       "list"
      ]
     },
     "execution_count": 19,
     "metadata": {},
     "output_type": "execute_result"
    }
   ],
   "source": [
    "type(gender)"
   ]
  },
  {
   "cell_type": "code",
   "execution_count": 21,
   "id": "af105138-de98-4cb6-b39b-cddb6da9d0a4",
   "metadata": {},
   "outputs": [
    {
     "data": {
      "text/plain": [
       "['f', 'm', 'w', 'm', 'not known']"
      ]
     },
     "execution_count": 21,
     "metadata": {},
     "output_type": "execute_result"
    }
   ],
   "source": [
    "gender"
   ]
  },
  {
   "cell_type": "code",
   "execution_count": 23,
   "id": "44bf68ad-439a-465a-9688-72d736389b0d",
   "metadata": {},
   "outputs": [],
   "source": [
    "shuffled_professions = ['married', 'married', 'laborer', 'laborer', 'widow', 'married', 'spinster',\n",
    "                     'laborer', 'spinster', 'laborer', 'spinster', 'spinster', 'married', 'laborer',\n",
    "                     'laborer', 'spinster', 'laborer', 'laborer', 'laborer', 'laborer', 'laborer', 'spinster',\n",
    "                     'laborer', 'spinster', 'widow', 'spinster', 'painter', 'laborer', 'weaver', 'laborer']"
   ]
  },
  {
   "cell_type": "markdown",
   "id": "a5ee17c2-ba80-44b1-819f-89147f7f9055",
   "metadata": {},
   "source": [
    "Make a new list that includes only the items in the list shuffled_professions that matches spinster"
   ]
  },
  {
   "cell_type": "code",
   "execution_count": 29,
   "id": "d65f04b7-51d5-40ad-904d-7c253d316251",
   "metadata": {},
   "outputs": [],
   "source": [
    "empty_list = []\n",
    "for profession in shuffled_professions:\n",
    "    if profession == \"spinster\":\n",
    "        empty_list.append(profession)"
   ]
  },
  {
   "cell_type": "markdown",
   "id": "52e2b952-4db8-4aab-88c1-c05afdef9aaa",
   "metadata": {},
   "source": [
    "Print out each item in the list shuffled_professions next to an index number"
   ]
  },
  {
   "cell_type": "code",
   "execution_count": 31,
   "id": "a4583b1f-e55a-4f2f-8cc8-a467115e0e2f",
   "metadata": {},
   "outputs": [
    {
     "name": "stdout",
     "output_type": "stream",
     "text": [
      "0 married\n",
      "1 married\n",
      "2 laborer\n",
      "3 laborer\n",
      "4 widow\n",
      "5 married\n",
      "6 spinster\n",
      "7 laborer\n",
      "8 spinster\n",
      "9 laborer\n",
      "10 spinster\n",
      "11 spinster\n",
      "12 married\n",
      "13 laborer\n",
      "14 laborer\n",
      "15 spinster\n",
      "16 laborer\n",
      "17 laborer\n",
      "18 laborer\n",
      "19 laborer\n",
      "20 laborer\n",
      "21 spinster\n",
      "22 laborer\n",
      "23 spinster\n",
      "24 widow\n",
      "25 spinster\n",
      "26 painter\n",
      "27 laborer\n",
      "28 weaver\n",
      "29 laborer\n"
     ]
    }
   ],
   "source": [
    "for number, profession in enumerate(shuffled_professions):\n",
    "    print(number, profession)"
   ]
  },
  {
   "cell_type": "markdown",
   "id": "cd814132-a0bc-4542-bf5a-62abea0954ae",
   "metadata": {},
   "source": [
    "Find the most and least common professions in the list shuffled_professions"
   ]
  },
  {
   "cell_type": "code",
   "execution_count": 33,
   "id": "fc91f497-e882-4dc8-9b4f-06c4563ebb25",
   "metadata": {},
   "outputs": [],
   "source": [
    "from collections import Counter"
   ]
  },
  {
   "cell_type": "code",
   "execution_count": 35,
   "id": "fd71b9e5-cc14-451e-a077-f870c8cb3e33",
   "metadata": {},
   "outputs": [
    {
     "data": {
      "text/plain": [
       "Counter({'laborer': 14,\n",
       "         'spinster': 8,\n",
       "         'married': 4,\n",
       "         'widow': 2,\n",
       "         'painter': 1,\n",
       "         'weaver': 1})"
      ]
     },
     "execution_count": 35,
     "metadata": {},
     "output_type": "execute_result"
    }
   ],
   "source": [
    "Counter(shuffled_professions)"
   ]
  },
  {
   "cell_type": "code",
   "execution_count": 47,
   "id": "8fa3f4fe-edf3-4c31-9419-1ff6ca457533",
   "metadata": {},
   "outputs": [
    {
     "data": {
      "text/plain": [
       "[('laborer', 14),\n",
       " ('spinster', 8),\n",
       " ('married', 4),\n",
       " ('widow', 2),\n",
       " ('painter', 1),\n",
       " ('weaver', 1)]"
      ]
     },
     "execution_count": 47,
     "metadata": {},
     "output_type": "execute_result"
    }
   ],
   "source": [
    "profession_tally = Counter(shuffled_professions)\n",
    "profession_tally.most_common()"
   ]
  },
  {
   "cell_type": "code",
   "execution_count": 49,
   "id": "71a6006b-9307-45bd-9c65-0beec4dac58b",
   "metadata": {},
   "outputs": [
    {
     "data": {
      "text/plain": [
       "[('painter', 1), ('weaver', 1)]"
      ]
     },
     "execution_count": 49,
     "metadata": {},
     "output_type": "execute_result"
    }
   ],
   "source": [
    "profession_tally.most_common()[-2:]"
   ]
  },
  {
   "cell_type": "code",
   "execution_count": null,
   "id": "bad4787f-7aaf-4183-af76-95720d6d94ba",
   "metadata": {},
   "outputs": [],
   "source": []
  }
 ],
 "metadata": {
  "kernelspec": {
   "display_name": "Python [conda env:base] *",
   "language": "python",
   "name": "conda-base-py"
  },
  "language_info": {
   "codemirror_mode": {
    "name": "ipython",
    "version": 3
   },
   "file_extension": ".py",
   "mimetype": "text/x-python",
   "name": "python",
   "nbconvert_exporter": "python",
   "pygments_lexer": "ipython3",
   "version": "3.12.7"
  }
 },
 "nbformat": 4,
 "nbformat_minor": 5
}
