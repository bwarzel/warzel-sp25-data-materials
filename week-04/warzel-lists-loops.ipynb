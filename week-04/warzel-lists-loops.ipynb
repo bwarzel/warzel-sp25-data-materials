{
 "cells": [
  {
   "cell_type": "markdown",
   "id": "f72a161c-c15d-4617-9a9c-bf5e69f12447",
   "metadata": {},
   "source": [
    "get data"
   ]
  },
  {
   "cell_type": "code",
   "execution_count": 1,
   "id": "a95aeade-74a7-450e-96f0-f77f61e9b065",
   "metadata": {},
   "outputs": [],
   "source": [
    "ages = [45, 23, 16, 34, 64, 28, 42, 31, 27, 38, 17, 52, 29, 44, 33, 15, 61, 36, 18, 41]\n",
    "\n",
    "occupations = ['farmer', 'servant', 'laborer', 'merchant', 'farmer', 'servant', 'teacher', 'farmer', 'laborer', 'merchant', 'servant', 'farmer', 'laborer', 'blacksmith', 'carpenter', 'servant', 'farmer', 'weaver', 'servant', 'carpenter']\n",
    "\n",
    "birth_places = ['Ireland', 'Ireland', 'New York', 'England', 'Ireland', 'Germany', 'New York', 'Ireland', 'Ireland', 'Scotland', 'Ireland', 'England', 'Ireland', 'Wales', 'Ireland', 'Ireland', 'Scotland', 'Ireland', 'Germany', 'Ireland']\n"
   ]
  },
  {
   "cell_type": "code",
   "execution_count": 3,
   "id": "6649a80e-5c42-419a-ba9e-9dbf3acc9174",
   "metadata": {},
   "outputs": [
    {
     "data": {
      "text/plain": [
       "[45,\n",
       " 23,\n",
       " 16,\n",
       " 34,\n",
       " 64,\n",
       " 28,\n",
       " 42,\n",
       " 31,\n",
       " 27,\n",
       " 38,\n",
       " 17,\n",
       " 52,\n",
       " 29,\n",
       " 44,\n",
       " 33,\n",
       " 15,\n",
       " 61,\n",
       " 36,\n",
       " 18,\n",
       " 41]"
      ]
     },
     "execution_count": 3,
     "metadata": {},
     "output_type": "execute_result"
    }
   ],
   "source": [
    "ages"
   ]
  },
  {
   "cell_type": "code",
   "execution_count": 5,
   "id": "9d242a93-4e85-41c8-8b37-c15669243617",
   "metadata": {},
   "outputs": [
    {
     "data": {
      "text/plain": [
       "['farmer',\n",
       " 'servant',\n",
       " 'laborer',\n",
       " 'merchant',\n",
       " 'farmer',\n",
       " 'servant',\n",
       " 'teacher',\n",
       " 'farmer',\n",
       " 'laborer',\n",
       " 'merchant',\n",
       " 'servant',\n",
       " 'farmer',\n",
       " 'laborer',\n",
       " 'blacksmith',\n",
       " 'carpenter',\n",
       " 'servant',\n",
       " 'farmer',\n",
       " 'weaver',\n",
       " 'servant',\n",
       " 'carpenter']"
      ]
     },
     "execution_count": 5,
     "metadata": {},
     "output_type": "execute_result"
    }
   ],
   "source": [
    "occupations"
   ]
  },
  {
   "cell_type": "code",
   "execution_count": 7,
   "id": "1fa8eddd-cf6e-46cb-8c1b-99e871d50a2c",
   "metadata": {},
   "outputs": [
    {
     "data": {
      "text/plain": [
       "['Ireland',\n",
       " 'Ireland',\n",
       " 'New York',\n",
       " 'England',\n",
       " 'Ireland',\n",
       " 'Germany',\n",
       " 'New York',\n",
       " 'Ireland',\n",
       " 'Ireland',\n",
       " 'Scotland',\n",
       " 'Ireland',\n",
       " 'England',\n",
       " 'Ireland',\n",
       " 'Wales',\n",
       " 'Ireland',\n",
       " 'Ireland',\n",
       " 'Scotland',\n",
       " 'Ireland',\n",
       " 'Germany',\n",
       " 'Ireland']"
      ]
     },
     "execution_count": 7,
     "metadata": {},
     "output_type": "execute_result"
    }
   ],
   "source": [
    "birth_places"
   ]
  },
  {
   "cell_type": "code",
   "execution_count": 29,
   "id": "e3e282c9-5170-492e-a845-01db9ef25a6d",
   "metadata": {},
   "outputs": [
    {
     "name": "stdout",
     "output_type": "stream",
     "text": [
      "The length of the ages list is 20\n"
     ]
    }
   ],
   "source": [
    "print(f\"The length of the ages list is {len(ages)}\")"
   ]
  },
  {
   "cell_type": "code",
   "execution_count": 13,
   "id": "49e3092a-9f67-429a-923a-b82c41c21c5c",
   "metadata": {},
   "outputs": [
    {
     "data": {
      "text/plain": [
       "20"
      ]
     },
     "execution_count": 13,
     "metadata": {},
     "output_type": "execute_result"
    }
   ],
   "source": [
    "len(occupations)"
   ]
  },
  {
   "cell_type": "code",
   "execution_count": 15,
   "id": "6b24f0b6-24ae-4dc0-a7e1-dffb0d484879",
   "metadata": {},
   "outputs": [
    {
     "data": {
      "text/plain": [
       "20"
      ]
     },
     "execution_count": 15,
     "metadata": {},
     "output_type": "execute_result"
    }
   ],
   "source": [
    "len(birth_places)"
   ]
  },
  {
   "cell_type": "code",
   "execution_count": 19,
   "id": "5bef1e10-2500-45a5-9b4e-f77248838a4e",
   "metadata": {},
   "outputs": [
    {
     "data": {
      "text/plain": [
       "['farmer', 'servant', 'laborer', 'merchant', 'farmer']"
      ]
     },
     "execution_count": 19,
     "metadata": {},
     "output_type": "execute_result"
    }
   ],
   "source": [
    "occupations[0:5]"
   ]
  },
  {
   "cell_type": "code",
   "execution_count": 31,
   "id": "bc0e5621-3af9-4097-9824-099ea8d21245",
   "metadata": {},
   "outputs": [
    {
     "data": {
      "text/plain": [
       "Counter({'farmer': 5,\n",
       "         'servant': 5,\n",
       "         'laborer': 3,\n",
       "         'merchant': 2,\n",
       "         'carpenter': 2,\n",
       "         'teacher': 1,\n",
       "         'blacksmith': 1,\n",
       "         'weaver': 1})"
      ]
     },
     "execution_count": 31,
     "metadata": {},
     "output_type": "execute_result"
    }
   ],
   "source": [
    "from collections import Counter\n",
    "Counter(occupations)"
   ]
  },
  {
   "cell_type": "code",
   "execution_count": 33,
   "id": "deed81a9-3c4a-4f45-ba87-1346115724ce",
   "metadata": {},
   "outputs": [
    {
     "data": {
      "text/plain": [
       "Counter({45: 1,\n",
       "         23: 1,\n",
       "         16: 1,\n",
       "         34: 1,\n",
       "         64: 1,\n",
       "         28: 1,\n",
       "         42: 1,\n",
       "         31: 1,\n",
       "         27: 1,\n",
       "         38: 1,\n",
       "         17: 1,\n",
       "         52: 1,\n",
       "         29: 1,\n",
       "         44: 1,\n",
       "         33: 1,\n",
       "         15: 1,\n",
       "         61: 1,\n",
       "         36: 1,\n",
       "         18: 1,\n",
       "         41: 1})"
      ]
     },
     "execution_count": 33,
     "metadata": {},
     "output_type": "execute_result"
    }
   ],
   "source": [
    "Counter(ages)"
   ]
  },
  {
   "cell_type": "code",
   "execution_count": 35,
   "id": "da2e10aa-07ec-4027-bc70-150e4d3f7658",
   "metadata": {},
   "outputs": [
    {
     "data": {
      "text/plain": [
       "Counter({'Ireland': 11,\n",
       "         'New York': 2,\n",
       "         'England': 2,\n",
       "         'Germany': 2,\n",
       "         'Scotland': 2,\n",
       "         'Wales': 1})"
      ]
     },
     "execution_count": 35,
     "metadata": {},
     "output_type": "execute_result"
    }
   ],
   "source": [
    "Counter(birth_places)"
   ]
  },
  {
   "cell_type": "code",
   "execution_count": 37,
   "id": "29a99770-6dcf-4b37-a7a0-a403d8d72193",
   "metadata": {},
   "outputs": [
    {
     "name": "stdout",
     "output_type": "stream",
     "text": [
      "Person #0: farmer\n",
      "Person #1: servant\n",
      "Person #2: laborer\n",
      "Person #3: merchant\n",
      "Person #4: farmer\n",
      "Person #5: servant\n",
      "Person #6: teacher\n",
      "Person #7: farmer\n",
      "Person #8: laborer\n",
      "Person #9: merchant\n",
      "Person #10: servant\n",
      "Person #11: farmer\n",
      "Person #12: laborer\n",
      "Person #13: blacksmith\n",
      "Person #14: carpenter\n",
      "Person #15: servant\n",
      "Person #16: farmer\n",
      "Person #17: weaver\n",
      "Person #18: servant\n",
      "Person #19: carpenter\n"
     ]
    }
   ],
   "source": [
    "for number, occupation in enumerate(occupations):\n",
    "    print(f\"Person #{number}: {occupation}\")"
   ]
  },
  {
   "cell_type": "code",
   "execution_count": 39,
   "id": "26abef2a-cda9-4c2d-9e2a-a26306609bfb",
   "metadata": {},
   "outputs": [
    {
     "name": "stdout",
     "output_type": "stream",
     "text": [
      "Person #0: 45\n",
      "Person #1: 23\n",
      "Person #2: 16\n",
      "Person #3: 34\n",
      "Person #4: 64\n",
      "Person #5: 28\n",
      "Person #6: 42\n",
      "Person #7: 31\n",
      "Person #8: 27\n",
      "Person #9: 38\n",
      "Person #10: 17\n",
      "Person #11: 52\n",
      "Person #12: 29\n",
      "Person #13: 44\n",
      "Person #14: 33\n",
      "Person #15: 15\n",
      "Person #16: 61\n",
      "Person #17: 36\n",
      "Person #18: 18\n",
      "Person #19: 41\n"
     ]
    }
   ],
   "source": [
    "for number, age in enumerate(ages):\n",
    "    print(f\"Person #{number}: {age}\")\n"
   ]
  },
  {
   "cell_type": "code",
   "execution_count": 41,
   "id": "9c9dbed7-5d4f-4297-949d-4063370d53a1",
   "metadata": {},
   "outputs": [
    {
     "name": "stdout",
     "output_type": "stream",
     "text": [
      "Person #0: Ireland\n",
      "Person #1: Ireland\n",
      "Person #2: New York\n",
      "Person #3: England\n",
      "Person #4: Ireland\n",
      "Person #5: Germany\n",
      "Person #6: New York\n",
      "Person #7: Ireland\n",
      "Person #8: Ireland\n",
      "Person #9: Scotland\n",
      "Person #10: Ireland\n",
      "Person #11: England\n",
      "Person #12: Ireland\n",
      "Person #13: Wales\n",
      "Person #14: Ireland\n",
      "Person #15: Ireland\n",
      "Person #16: Scotland\n",
      "Person #17: Ireland\n",
      "Person #18: Germany\n",
      "Person #19: Ireland\n"
     ]
    }
   ],
   "source": [
    "for number, birth_place in enumerate(birth_places):\n",
    "    print(f\"Person #{number}: {birth_place}\")\n"
   ]
  },
  {
   "cell_type": "code",
   "execution_count": 43,
   "id": "5835fae5-5f46-4316-918c-856aa974a138",
   "metadata": {},
   "outputs": [
    {
     "name": "stdout",
     "output_type": "stream",
     "text": [
      "Number of skilled laborers: 4\n"
     ]
    }
   ],
   "source": [
    "skilled_laborers = []\n",
    "for occupation in occupations:\n",
    "    if occupation == 'blacksmith' or occupation == 'carpenter' or occupation == 'weaver':\n",
    "        skilled_laborers.append(occupation)\n",
    "print(f\"Number of skilled laborers: {len(skilled_laborers)}\")"
   ]
  },
  {
   "cell_type": "code",
   "execution_count": 47,
   "id": "e2d352a7-0b2f-4710-a38e-9bcab60209ad",
   "metadata": {},
   "outputs": [
    {
     "name": "stdout",
     "output_type": "stream",
     "text": [
      "Number of people in UK: 14\n"
     ]
    }
   ],
   "source": [
    "united_kingdom = []\n",
    "for place in birth_places:\n",
    "    if place == 'England' or place == 'Wales' or place == 'Ireland':\n",
    "        united_kingdom.append(place)\n",
    "print(f\"Number of people in UK: {len(united_kingdom)}\")\n"
   ]
  },
  {
   "cell_type": "code",
   "execution_count": 49,
   "id": "88fa49c9-ac7c-4f0b-ba18-00671166b0c7",
   "metadata": {},
   "outputs": [
    {
     "name": "stdout",
     "output_type": "stream",
     "text": [
      "Number of youngsters: 8\n"
     ]
    }
   ],
   "source": [
    "youngsters = []\n",
    "for age in ages:\n",
    "    if age < 30:\n",
    "        youngsters.append(occupation)\n",
    "print(f\"Number of youngsters: {len(youngsters)}\")\n"
   ]
  },
  {
   "cell_type": "code",
   "execution_count": 51,
   "id": "d5c0c0c4-b2f7-4dd5-b7f7-fff4909afb59",
   "metadata": {},
   "outputs": [
    {
     "data": {
      "text/plain": [
       "Counter({'unskilled laborer': 13, 'skilled laborer': 4, 'other': 3})"
      ]
     },
     "execution_count": 51,
     "metadata": {},
     "output_type": "execute_result"
    }
   ],
   "source": [
    "skilled_unskilled = []\n",
    "for occupation in occupations:\n",
    "    if occupation == 'blacksmith' or occupation == 'carpenter' or occupation == 'weaver':\n",
    "        skilled_unskilled.append(\"skilled laborer\")\n",
    "    elif occupation == 'laborer' or occupation == 'servant' or occupation == 'farmer':\n",
    "        skilled_unskilled.append(\"unskilled laborer\")\n",
    "    else:\n",
    "        skilled_unskilled.append(\"other\")\n",
    "Counter(skilled_unskilled)\n"
   ]
  },
  {
   "cell_type": "code",
   "execution_count": null,
   "id": "7c8632c4-bb40-4a54-8204-ef2ff99a5883",
   "metadata": {},
   "outputs": [],
   "source": []
  }
 ],
 "metadata": {
  "kernelspec": {
   "display_name": "Python [conda env:base] *",
   "language": "python",
   "name": "conda-base-py"
  },
  "language_info": {
   "codemirror_mode": {
    "name": "ipython",
    "version": 3
   },
   "file_extension": ".py",
   "mimetype": "text/x-python",
   "name": "python",
   "nbconvert_exporter": "python",
   "pygments_lexer": "ipython3",
   "version": "3.12.7"
  }
 },
 "nbformat": 4,
 "nbformat_minor": 5
}
