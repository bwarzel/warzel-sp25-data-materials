{
 "cells": [
  {
   "cell_type": "markdown",
   "id": "8011d005-422b-4618-9632-5f97e3d0dd56",
   "metadata": {},
   "source": [
    "Make new variables for the historical figure Lucy Parsons for her first name, last name, birth year, and the state in which she was born - use her Wikipedia page."
   ]
  },
  {
   "cell_type": "code",
   "execution_count": 2,
   "id": "1705eff3-152f-46d0-8e76-8010d6648b5e",
   "metadata": {},
   "outputs": [],
   "source": [
    "name = \"Lucy\"\n",
    "last_name = \"Parsons\"\n",
    "born_year = \"1851\"\n",
    "born_state = \"Texas\"\n"
   ]
  },
  {
   "cell_type": "markdown",
   "id": "e9bcb6ff-858b-4bc4-a551-ea1e697ac75a",
   "metadata": {},
   "source": [
    "Make a new variable full_name. Assign it a single string value based on the variables you created above. Then add a print statement that writes out a full sentence using full_name."
   ]
  },
  {
   "cell_type": "code",
   "execution_count": 4,
   "id": "7b3cae7b-45a8-42bd-9af6-4feddd919527",
   "metadata": {},
   "outputs": [
    {
     "name": "stdout",
     "output_type": "stream",
     "text": [
      "Lucy Parsons\n"
     ]
    }
   ],
   "source": [
    "first_name = \"Lucy\"\n",
    "last_name = \"Parsons\"\n",
    "born_year = \"1851\"\n",
    "born_state = \"Texas\"\n",
    "full_name = (f\"{first_name} {last_name}\")\n",
    "print(full_name)"
   ]
  },
  {
   "cell_type": "markdown",
   "id": "101c97b1-584f-47c0-ab49-39b6b65fb98f",
   "metadata": {},
   "source": [
    "How old was Lucy Parsons during the Haymarket affair? Calculate her age using the variables you created above, and assign it to a new variable haymarket_age. End with a full-sentence print statement answering the question that uses haymarket_age and an f-string."
   ]
  },
  {
   "cell_type": "code",
   "execution_count": 6,
   "id": "490e0e03-ac25-4b9b-8815-6e0249c20bcd",
   "metadata": {},
   "outputs": [
    {
     "data": {
      "text/plain": [
       "35"
      ]
     },
     "execution_count": 6,
     "metadata": {},
     "output_type": "execute_result"
    }
   ],
   "source": [
    "first_name = \"Lucy\"\n",
    "last_name = \"Parsons\"\n",
    "born_year = \"1851\"\n",
    "born_state = \"Texas\"\n",
    "full_name = (f\"{first_name} {last_name}\")\n",
    "haymarket_year = \"1886\"\n",
    "1886-1851\n"
   ]
  },
  {
   "cell_type": "code",
   "execution_count": 7,
   "id": "5103f3dd-e949-48ae-a646-c390b2d52204",
   "metadata": {},
   "outputs": [
    {
     "name": "stdout",
     "output_type": "stream",
     "text": [
      "Lucy Parsons was 35 years old at the time of the Haymarket Affair\n"
     ]
    }
   ],
   "source": [
    "first_name = \"Lucy\"\n",
    "last_name = \"Parsons\"\n",
    "born_year = \"1851\"\n",
    "born_state = \"Texas\"\n",
    "full_name = (f\"{first_name} {last_name}\")\n",
    "haymarket_year = \"1886\"\n",
    "haymarket_age = \"35\"\n",
    "print(f\"{full_name} was {haymarket_age} years old at the time of the Haymarket Affair\")\n"
   ]
  },
  {
   "cell_type": "markdown",
   "id": "37bbb7d8-9b7a-4c41-9e37-097bed98c03b",
   "metadata": {},
   "source": [
    "Lucy Parsons’s contemporary and rival, Emma Goldman, also has a Wikipedia page. Create variables and assign each one the number of footnotes for each of their Wikipedia pages (you can do this manually). Create another variable calculating the difference between them. Then write a print statement that compares these two numbers in some way."
   ]
  },
  {
   "cell_type": "code",
   "execution_count": 9,
   "id": "092b7e8d-d11b-425b-845d-0d4411245fc1",
   "metadata": {},
   "outputs": [
    {
     "name": "stdout",
     "output_type": "stream",
     "text": [
      "Emma Goldman was the rival of Lucy Parsons and has 180 more footnotes on her Wikipedia page than Lucy Parsons\n"
     ]
    }
   ],
   "source": [
    "lucy = \"Lucy Parsons\"\n",
    "emma = \"Emma Goldman\"\n",
    "lucy_foot = \"36\"\n",
    "emma_foot = \"216\"\n",
    "diff = 216 - 36\n",
    "print(f'{emma} was the rival of {lucy} and has {diff} more footnotes on her Wikipedia page than {lucy}')\n",
    "\n",
    "\n",
    "\n"
   ]
  },
  {
   "cell_type": "code",
   "execution_count": null,
   "id": "2b5d552f-47bc-4b28-aba9-b407aeb72f6f",
   "metadata": {},
   "outputs": [],
   "source": []
  }
 ],
 "metadata": {
  "kernelspec": {
   "display_name": "Python [conda env:base] *",
   "language": "python",
   "name": "conda-base-py"
  },
  "language_info": {
   "codemirror_mode": {
    "name": "ipython",
    "version": 3
   },
   "file_extension": ".py",
   "mimetype": "text/x-python",
   "name": "python",
   "nbconvert_exporter": "python",
   "pygments_lexer": "ipython3",
   "version": "3.12.7"
  }
 },
 "nbformat": 4,
 "nbformat_minor": 5
}
