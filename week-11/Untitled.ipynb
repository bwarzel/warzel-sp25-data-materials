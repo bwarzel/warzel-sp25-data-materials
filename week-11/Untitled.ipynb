{
 "cells": [
  {
   "cell_type": "code",
   "execution_count": 3,
   "id": "f5c318a0-7c0c-4d39-aeb0-f01440af3ecf",
   "metadata": {},
   "outputs": [
    {
     "name": "stderr",
     "output_type": "stream",
     "text": [
      "/var/folders/1x/zwvq_9c13nd4s2lk8pdz1nrw0000gn/T/ipykernel_50225/1476925722.py:3: UnicodeWarning: \n",
      "One or more strings in the dta file could not be decoded using utf-8, and\n",
      "so the fallback encoding of latin-1 is being used.  This can happen when a file\n",
      "has been incorrectly encoded by Stata or some other software. You should verify\n",
      "the string values returned are correct.\n",
      "  df = pd.read_stata('hcmst2017.dta')\n"
     ]
    },
    {
     "data": {
      "text/plain": [
       "<bound method NDFrame.describe of       caseid_new  w3_Weight  w3_Weight_LGB  w3_combo_weight  \\\n",
       "0          53001     0.4422            NaN         0.495308   \n",
       "1          71609     0.8284            NaN         0.927891   \n",
       "2         106983     0.8255            NaN         0.924643   \n",
       "3         121759        NaN            NaN              NaN   \n",
       "4         158083     0.8810            NaN         0.986809   \n",
       "...          ...        ...            ...              ...   \n",
       "3505     2967957        NaN            NaN              NaN   \n",
       "3506     2968357        NaN            NaN              NaN   \n",
       "3507     2968971        NaN            NaN              NaN   \n",
       "3508     2969933        NaN            NaN              NaN   \n",
       "3509     2972135        NaN            NaN              NaN   \n",
       "\n",
       "      w3_attrition_adj_weight  w2_weight_genpop  w2_weight_LGB  \\\n",
       "0                    0.400185            0.3856            NaN   \n",
       "1                    0.879258            0.9196            NaN   \n",
       "2                    0.706467            0.7748            NaN   \n",
       "3                         NaN            0.9177            NaN   \n",
       "4                    0.655467            0.8697            NaN   \n",
       "...                       ...               ...            ...   \n",
       "3505                      NaN               NaN            NaN   \n",
       "3506                      NaN               NaN            NaN   \n",
       "3507                      NaN               NaN            NaN   \n",
       "3508                      NaN               NaN            NaN   \n",
       "3509                      NaN               NaN            NaN   \n",
       "\n",
       "      w2_combo_weight  w2_attrition_adj_weights  w1_weight_combo  ...  \\\n",
       "0            0.437670                  0.380351         0.426861  ...   \n",
       "1            1.043778                  0.953948         1.295508  ...   \n",
       "2            0.879425                  0.724682         1.126573  ...   \n",
       "3            1.041622                  0.793093         0.933440  ...   \n",
       "4            0.987140                  0.735473         0.931291  ...   \n",
       "...               ...                       ...              ...  ...   \n",
       "3505              NaN                       NaN         0.594351  ...   \n",
       "3506              NaN                       NaN         0.196247  ...   \n",
       "3507              NaN                       NaN         0.383199  ...   \n",
       "3508              NaN                       NaN         0.197115  ...   \n",
       "3509              NaN                       NaN         1.715531  ...   \n",
       "\n",
       "      p20_pppa1634 p20_pppa1902  p20_pppa1903 p20_pppa1904 p20_ppp22001  \\\n",
       "0           Female           No        Female           No           No   \n",
       "1           Female           No        Female           No           No   \n",
       "2             Male         Male            No           No           No   \n",
       "3             Male         Male            No           No           No   \n",
       "4             Male         Male            No           No           No   \n",
       "...            ...          ...           ...          ...          ...   \n",
       "3505           NaN          NaN           NaN          NaN          NaN   \n",
       "3506           NaN          NaN           NaN          NaN          NaN   \n",
       "3507           NaN          NaN           NaN          NaN          NaN   \n",
       "3508           NaN          NaN           NaN          NaN          NaN   \n",
       "3509        Female           No        Female           No           No   \n",
       "\n",
       "      p20_pppa1905                                       p20_pppa1648  \\\n",
       "0               No                                        No religion   \n",
       "1               No  Evangelical or Protestant Christian (Baptist, ...   \n",
       "2               No                                           Catholic   \n",
       "3               No                           Other Christian religion   \n",
       "4               No                                        No religion   \n",
       "...            ...                                                ...   \n",
       "3505           NaN                                                NaN   \n",
       "3506           NaN                                                NaN   \n",
       "3507           NaN                                                NaN   \n",
       "3508           NaN                                                NaN   \n",
       "3509            No                                           Catholic   \n",
       "\n",
       "             p20_ppp20072 p20_ppp20071  p20_ppp2date2020  \n",
       "0                   Never          NaN        20210506.0  \n",
       "1     Once a year or less          Yes        20201118.0  \n",
       "2      A few times a year           No        20210429.0  \n",
       "3             Once a week          Yes        20210507.0  \n",
       "4                   Never          NaN        20210602.0  \n",
       "...                   ...          ...               ...  \n",
       "3505                  NaN          NaN               NaN  \n",
       "3506                  NaN          NaN               NaN  \n",
       "3507                  NaN          NaN               NaN  \n",
       "3508                  NaN          NaN               NaN  \n",
       "3509          Once a week           No        20210308.0  \n",
       "\n",
       "[3510 rows x 725 columns]>"
      ]
     },
     "execution_count": 3,
     "metadata": {},
     "output_type": "execute_result"
    }
   ],
   "source": [
    "import pandas as pd\n",
    "\n",
    "df = pd.read_stata('hcmst2017.dta')\n",
    "df.describe"
   ]
  },
  {
   "cell_type": "code",
   "execution_count": null,
   "id": "033e9b3c-b8c4-47f6-be8c-cef3336580a6",
   "metadata": {},
   "outputs": [],
   "source": []
  }
 ],
 "metadata": {
  "kernelspec": {
   "display_name": "Python [conda env:base] *",
   "language": "python",
   "name": "conda-base-py"
  },
  "language_info": {
   "codemirror_mode": {
    "name": "ipython",
    "version": 3
   },
   "file_extension": ".py",
   "mimetype": "text/x-python",
   "name": "python",
   "nbconvert_exporter": "python",
   "pygments_lexer": "ipython3",
   "version": "3.12.7"
  }
 },
 "nbformat": 4,
 "nbformat_minor": 5
}
