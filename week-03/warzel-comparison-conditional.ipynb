{
 "cells": [
  {
   "cell_type": "code",
   "execution_count": 1,
   "id": "05e8ab7b-7715-4d22-b5a9-efdbddd91284",
   "metadata": {
    "editable": true,
    "slideshow": {
     "slide_type": ""
    },
    "tags": []
   },
   "outputs": [],
   "source": [
    "# Boston population data\n",
    "boston_1850 = 136881\n",
    "boston_1860 = 177840\n",
    "boston_1870 = 250526\n",
    "\n",
    "# New York population data\n",
    "ny_1850 = 515547\n",
    "ny_1860 = 813669\n",
    "ny_1870 = 942292\n",
    "\n",
    "# Philadelphia population data\n",
    "phil_1850 = 121376\n",
    "phil_1860 = 565529\n",
    "phil_1870 = 674022\n"
   ]
  },
  {
   "cell_type": "markdown",
   "id": "556f386b-5c87-4d62-a6d9-85169f845765",
   "metadata": {},
   "source": [
    "Use comparison operators and if/else statements to answer these questions about the cities:\n",
    "\n",
    "Write code to check if Boston’s population in 1870 had surpassed 200,000 people\n",
    "Compare New York’s and Philadelphia’s populations in 1860 using an if/else statement - which was larger?\n",
    "Did Philadelphia’s population more than double between 1850 and 1860?"
   ]
  },
  {
   "cell_type": "code",
   "execution_count": 3,
   "id": "b4d44f92-0b69-4b86-9545-feb87772e3d1",
   "metadata": {},
   "outputs": [
    {
     "name": "stdout",
     "output_type": "stream",
     "text": [
      "Yes\n"
     ]
    }
   ],
   "source": [
    "if boston_1870 > 200000:\n",
    "        print('Yes')\n",
    "else:\n",
    "        print('No')"
   ]
  },
  {
   "cell_type": "code",
   "execution_count": 4,
   "id": "baa27864-0311-4f90-964e-61e53498fffd",
   "metadata": {
    "editable": true,
    "slideshow": {
     "slide_type": ""
    },
    "tags": []
   },
   "outputs": [
    {
     "name": "stdout",
     "output_type": "stream",
     "text": [
      "813669\n"
     ]
    }
   ],
   "source": [
    "print(ny_1860)"
   ]
  },
  {
   "cell_type": "code",
   "execution_count": 5,
   "id": "a7096e41-dc20-430d-9546-9d2f90ce3aec",
   "metadata": {},
   "outputs": [
    {
     "name": "stdout",
     "output_type": "stream",
     "text": [
      "565529\n"
     ]
    }
   ],
   "source": [
    "print(phil_1860)"
   ]
  },
  {
   "cell_type": "code",
   "execution_count": 6,
   "id": "396db998-d6c8-4d1e-830d-33fd44e3bc1e",
   "metadata": {},
   "outputs": [
    {
     "name": "stdout",
     "output_type": "stream",
     "text": [
      "New York\n"
     ]
    }
   ],
   "source": [
    "if ny_1860 > phil_1860:\n",
    "        print('New York')\n",
    "else:\n",
    "        print(\"Philadelphia\")"
   ]
  },
  {
   "cell_type": "code",
   "execution_count": 7,
   "id": "7c701943-0677-4749-af57-884d7871daea",
   "metadata": {},
   "outputs": [
    {
     "name": "stdout",
     "output_type": "stream",
     "text": [
      "the population doubled\n"
     ]
    }
   ],
   "source": [
    "if phil_1860 > (2*phil_1850):\n",
    "        print('the population doubled')\n",
    "else:\n",
    "        print:('No')"
   ]
  },
  {
   "cell_type": "code",
   "execution_count": 8,
   "id": "a4572360-f1b2-470b-b55a-f0478c664b2c",
   "metadata": {},
   "outputs": [],
   "source": [
    "# Calculate population growth\n",
    "boston_growth = boston_1870 - boston_1850\n",
    "ny_growth = ny_1870 - ny_1850\n",
    "phil_growth = phil_1870 - phil_1850"
   ]
  },
  {
   "cell_type": "markdown",
   "id": "23663558-df2d-4ecf-a798-11d35c914954",
   "metadata": {},
   "source": [
    "Write an if/elif/else statement that prints “Fastest growing city!” if a city had the highest absolute population growth (ie. went up by the largest number of people)."
   ]
  },
  {
   "cell_type": "code",
   "execution_count": 31,
   "id": "74712eae-f880-43a7-964e-0f53dc6aeedc",
   "metadata": {},
   "outputs": [
    {
     "name": "stdout",
     "output_type": "stream",
     "text": [
      "Philadelphia had the highest population growth\n"
     ]
    }
   ],
   "source": [
    "if boston_growth > ny_growth and boston_growth > phil_growth:\n",
    "    print(\"Boston had the highest population growth\")\n",
    "elif ny_growth > phil_growth and ny_growth > boston_growth:\n",
    "    print(\"New York had the highest population growth\")\n",
    "elif phil_growth > ny_growth and phil_growth > boston_growth:\n",
    "    print(\"Philadelphia had the highest population growth\")"
   ]
  },
  {
   "cell_type": "markdown",
   "id": "d8a828f5-2d22-483a-a4ed-508a92f5531a",
   "metadata": {},
   "source": [
    "Let’s combine multiple conditions:\n",
    "\n",
    "Write code using and to check if BOTH:\n",
    "Boston’s 1870 population was over 200,000\n",
    "AND Boston’s population increased by at least 100,000 from 1850 to 1870\n",
    "\n",
    "Use or to check if either one of these condition was true in 1860:\n",
    "New York’s population was over 800,000 in 1860\n",
    "OR Philadelphia’s population was over 800,000 in 1860"
   ]
  },
  {
   "cell_type": "code",
   "execution_count": 34,
   "id": "811dae05-99c8-461f-8847-3f871c91b253",
   "metadata": {},
   "outputs": [
    {
     "name": "stdout",
     "output_type": "stream",
     "text": [
      "They had a lot going on!\n"
     ]
    }
   ],
   "source": [
    "if boston_1870 > 200000 and boston_growth >= 100000:\n",
    "    print(\"They had a lot going on!\")\n",
    "else:\n",
    "    print(\"Nothing much\")\n"
   ]
  },
  {
   "cell_type": "code",
   "execution_count": 13,
   "id": "9792fba8-cc14-4d86-9097-11666d3b3530",
   "metadata": {},
   "outputs": [
    {
     "name": "stdout",
     "output_type": "stream",
     "text": [
      "NY and Philly had over 800,000 people in 1860.\n"
     ]
    }
   ],
   "source": [
    "if ny_1860 > 800000 or phil_1860 > 800000:\n",
    "    print(\"NY and Philly had over 800,000 people in 1860.\")\n",
    "else:\n",
    "    print(\"try again\")"
   ]
  },
  {
   "cell_type": "code",
   "execution_count": null,
   "id": "2f648b6e-4302-43b4-9ee6-9194a8130454",
   "metadata": {},
   "outputs": [],
   "source": []
  }
 ],
 "metadata": {
  "kernelspec": {
   "display_name": "Python [conda env:base] *",
   "language": "python",
   "name": "conda-base-py"
  },
  "language_info": {
   "codemirror_mode": {
    "name": "ipython",
    "version": 3
   },
   "file_extension": ".py",
   "mimetype": "text/x-python",
   "name": "python",
   "nbconvert_exporter": "python",
   "pygments_lexer": "ipython3",
   "version": "3.12.7"
  }
 },
 "nbformat": 4,
 "nbformat_minor": 5
}
