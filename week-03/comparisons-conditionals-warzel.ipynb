{
 "cells": [
  {
   "cell_type": "code",
   "execution_count": 1,
   "id": "5b510782-91d6-4006-85cc-594786e6f55a",
   "metadata": {},
   "outputs": [],
   "source": [
    "person1_name = 'Mary Gallagher'\n",
    "person1_age = 28\n",
    "person1_disease = 'recent emigrant'\n",
    "person1_profession = 'married'\n",
    "person1_gender = 'f'\n",
    "person1_child_status = 'Child Alana 10 days'"
   ]
  },
  {
   "cell_type": "code",
   "execution_count": 2,
   "id": "7ff10d1c-dcf7-49bf-a097-61bcab191fa0",
   "metadata": {},
   "outputs": [
    {
     "name": "stdout",
     "output_type": "stream",
     "text": [
      "Person is less than 30 years old.\n"
     ]
    }
   ],
   "source": [
    "if person1_age < 30:\n",
    "    print('Person is less than 30 years old.')"
   ]
  },
  {
   "cell_type": "code",
   "execution_count": 3,
   "id": "92c17fdc-08ad-4a75-8458-31293f7da8f4",
   "metadata": {},
   "outputs": [
    {
     "name": "stdout",
     "output_type": "stream",
     "text": [
      "Person is married\n"
     ]
    }
   ],
   "source": [
    "if person1_profession == 'married':\n",
    "        print('Person is married')"
   ]
  },
  {
   "cell_type": "code",
   "execution_count": 15,
   "id": "eecaec8f-3280-41c9-bbfa-d3f4d894eaa7",
   "metadata": {},
   "outputs": [],
   "source": [
    "person2_name = 'Anthony Clark'\n",
    "person2_age = 60\n",
    "person2_disease = 'recent emigrant'\n",
    "person2_profession = 'laborer'\n",
    "person2_gender = 'm'\n",
    "person2_child_status = 'Charles Riley afed 10 days'"
   ]
  },
  {
   "cell_type": "code",
   "execution_count": 17,
   "id": "e48b075f-70fb-4076-a851-8701e00466d5",
   "metadata": {},
   "outputs": [],
   "source": [
    "person2_name = 'Anthony Clark'\n",
    "person2_age = 60\n",
    "person2_disease = 'recent emigrant'\n",
    "person2_profession = 'laborer'\n",
    "person2_gender = 'm'\n",
    "person2_child_status = 'Charles Riley afed 10 days'"
   ]
  },
  {
   "cell_type": "code",
   "execution_count": 19,
   "id": "5fc12623-0faa-4abb-9985-2164ae1d754f",
   "metadata": {},
   "outputs": [
    {
     "name": "stdout",
     "output_type": "stream",
     "text": [
      "Person is more than 30 years old.\n"
     ]
    }
   ],
   "source": [
    "if person2_age < 30:\n",
    "    print('Person is less than 30 years old.')\n",
    "else:\n",
    "    print('Person is more than 30 years old.')"
   ]
  },
  {
   "cell_type": "code",
   "execution_count": 21,
   "id": "dc240887-ed2f-4b62-8588-2ea88c982485",
   "metadata": {},
   "outputs": [
    {
     "name": "stdout",
     "output_type": "stream",
     "text": [
      "Person is exactly 30 years old.\n"
     ]
    }
   ],
   "source": [
    "if person2_age < 30:\n",
    "    print('Person is less than 30 years old.')\n",
    "elif person2_age > 30:\n",
    "    print('Person is exactly 30 years old.')\n",
    "else:\n",
    "    print('Person is more than 30 years old.')"
   ]
  },
  {
   "cell_type": "code",
   "execution_count": 23,
   "id": "c217cb60-e83e-426a-82c7-8fd7f242a7f9",
   "metadata": {},
   "outputs": [],
   "source": [
    "person1_child_status = 'Child Alana 10 days'\n",
    "person3_child_status = ''"
   ]
  },
  {
   "cell_type": "code",
   "execution_count": 25,
   "id": "efb866de-2bba-41f8-86cf-556b256132b4",
   "metadata": {},
   "outputs": [
    {
     "name": "stdout",
     "output_type": "stream",
     "text": [
      "Person has children.\n"
     ]
    }
   ],
   "source": [
    "if person1_child_status != '':\n",
    "    print('Person has children.')"
   ]
  },
  {
   "cell_type": "code",
   "execution_count": 32,
   "id": "31e185b7-ad80-411c-ba06-ccc3daec72f7",
   "metadata": {},
   "outputs": [
    {
     "data": {
      "text/plain": [
       "False"
      ]
     },
     "execution_count": 32,
     "metadata": {},
     "output_type": "execute_result"
    }
   ],
   "source": [
    "person1_child_status != '' and person3_child_status != ''"
   ]
  },
  {
   "cell_type": "code",
   "execution_count": 40,
   "id": "51456f6f-7129-42ab-8500-ac4b95b545f6",
   "metadata": {},
   "outputs": [
    {
     "name": "stdout",
     "output_type": "stream",
     "text": [
      "Person has children.\n"
     ]
    }
   ],
   "source": [
    "if person1_child_status != '' and person2_child_status != '':\n",
    "    print('Person has children.')"
   ]
  },
  {
   "cell_type": "code",
   "execution_count": 42,
   "id": "8906bf46-b607-4fdc-a87e-c852a1c61630",
   "metadata": {},
   "outputs": [],
   "source": [
    "person1_profession = 'married'"
   ]
  },
  {
   "cell_type": "code",
   "execution_count": 44,
   "id": "432a5005-8b3a-4a3f-9311-ed5e68e1c365",
   "metadata": {},
   "outputs": [
    {
     "name": "stdout",
     "output_type": "stream",
     "text": [
      "Person is married.\n"
     ]
    }
   ],
   "source": [
    "if person1_profession == 'married':\n",
    "    print('Person is married.')\n",
    "if person1_profession == 'laborer':\n",
    "    print('Person is a laborer.')\n",
    "if person1_profession == 'widow':\n",
    "    print('Person is a widow.')\n",
    "if person1_profession == 'unknown profession':\n",
    "    print('Person has unknown profession.')"
   ]
  },
  {
   "cell_type": "code",
   "execution_count": 46,
   "id": "e533be73-27b4-48ca-b370-b3a85f671dde",
   "metadata": {},
   "outputs": [],
   "source": [
    "person1_profession = 'laborer'"
   ]
  },
  {
   "cell_type": "code",
   "execution_count": 50,
   "id": "6cb5411c-f7bd-461c-b224-1658943ce231",
   "metadata": {},
   "outputs": [
    {
     "name": "stdout",
     "output_type": "stream",
     "text": [
      "Person is a laborer.\n"
     ]
    }
   ],
   "source": [
    "if person1_profession == 'married':\n",
    "    print('Person is married.')\n",
    "if person1_profession == 'married' or 'laborer':\n",
    "    print('Person is a laborer.')\n",
    "if person1_profession == 'widow':\n",
    "    print('Person is a widow.')\n",
    "if person1_profession == 'unknown profession':\n",
    "    print('Person has unknown profession.')"
   ]
  },
  {
   "cell_type": "code",
   "execution_count": 52,
   "id": "9674d018-2955-48e7-bb45-8cb1bea25b6f",
   "metadata": {},
   "outputs": [],
   "source": [
    "person1_profession = 'student'"
   ]
  },
  {
   "cell_type": "code",
   "execution_count": 56,
   "id": "a1a2eb24-4f65-4d61-a725-674c8087fdbd",
   "metadata": {},
   "outputs": [
    {
     "name": "stdout",
     "output_type": "stream",
     "text": [
      "Person is a laborer.\n",
      "Person has unknown profession.\n"
     ]
    }
   ],
   "source": [
    "if person1_profession == 'married':\n",
    "    print('Person is married.')\n",
    "if person1_profession == 'married' or 'laborer':\n",
    "    print('Person is a laborer.')\n",
    "if person1_profession == 'widow':\n",
    "    print('Person is a widow.')\n",
    "if person1_profession == 'unknown profession' or 'student':\n",
    "    print('Person has unknown profession.')"
   ]
  },
  {
   "cell_type": "code",
   "execution_count": 58,
   "id": "5057cbfd-4dbc-4d39-ac53-4d127692303a",
   "metadata": {},
   "outputs": [],
   "source": [
    "person4_name = 'John Sanin(?)'"
   ]
  },
  {
   "cell_type": "code",
   "execution_count": 72,
   "id": "d9714e97-c688-4a3c-a0c4-b26e5d8e972b",
   "metadata": {},
   "outputs": [],
   "source": [
    "if \"(?)\" in person2_name:\n",
    "    person2_name.replace('(?)','')"
   ]
  },
  {
   "cell_type": "code",
   "execution_count": 74,
   "id": "5c0c77eb-56be-4d59-a614-1310cc9ace8e",
   "metadata": {},
   "outputs": [
    {
     "name": "stdout",
     "output_type": "stream",
     "text": [
      "John Sanin(?)\n"
     ]
    }
   ],
   "source": [
    "print(person4_name)"
   ]
  },
  {
   "cell_type": "markdown",
   "id": "f2338076-fd76-4a85-a644-fa7e9d4c01f6",
   "metadata": {},
   "source": [
    "In a few sentences, discuss the following dilemma. Python doesn’t understand the historical context or human meaning behind data. What consequences might this incomprehension have on our society? How can we be sure to preserve the historical context and human meaning behind data when we are working with Python?\n",
    "marriage is not a profession, i'm not sure why it is included as that variable. we need to be sure to assign the correct meaning to things. if the disease is being an emigrant as well, then this dataset is extremely misleading to the layperson. \n"
   ]
  }
 ],
 "metadata": {
  "kernelspec": {
   "display_name": "Python [conda env:base] *",
   "language": "python",
   "name": "conda-base-py"
  },
  "language_info": {
   "codemirror_mode": {
    "name": "ipython",
    "version": 3
   },
   "file_extension": ".py",
   "mimetype": "text/x-python",
   "name": "python",
   "nbconvert_exporter": "python",
   "pygments_lexer": "ipython3",
   "version": "3.12.7"
  }
 },
 "nbformat": 4,
 "nbformat_minor": 5
}
