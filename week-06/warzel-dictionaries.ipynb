{
 "cells": [
  {
   "cell_type": "markdown",
   "id": "014f2402-c822-4ea5-8e3d-a8ba2941b79f",
   "metadata": {},
   "source": [
    "creating a dictionary"
   ]
  },
  {
   "cell_type": "code",
   "execution_count": 2,
   "id": "91b683f6-12bb-47b7-bd7a-8aca64992f7d",
   "metadata": {},
   "outputs": [
    {
     "name": "stdout",
     "output_type": "stream",
     "text": [
      "{'Patrick Murphy': 45, 'Mary Kelly': 23, 'Thomas Williams': 16, 'Elizabeth Smith': 34}\n"
     ]
    }
   ],
   "source": [
    "# Create a dictionary mapping names to ages\n",
    "ages_dict = {\n",
    "    \"Patrick Murphy\": 45,\n",
    "    \"Mary Kelly\": 23,\n",
    "    \"Thomas Williams\": 16,\n",
    "    \"Elizabeth Smith\": 34\n",
    "}\n",
    "\n",
    "# Print the entire dictionary\n",
    "print(ages_dict)\n"
   ]
  },
  {
   "cell_type": "code",
   "execution_count": 3,
   "id": "d5b979a5-6488-4102-bcd5-a735ee06f9fd",
   "metadata": {},
   "outputs": [
    {
     "name": "stdout",
     "output_type": "stream",
     "text": [
      "Patrick Murphy is 45 years old.\n"
     ]
    }
   ],
   "source": [
    "# Get Patrick's age using his name as the key\n",
    "patricks_age = ages_dict[\"Patrick Murphy\"]\n",
    "print(f\"Patrick Murphy is {patricks_age} years old.\")\n"
   ]
  },
  {
   "cell_type": "markdown",
   "id": "43759f83-9680-4439-9f17-0161deeec298",
   "metadata": {},
   "source": [
    "Below is a list of some famous celebrities and their ages (as of 2025):\n",
    "\n",
    "Taylor Swift, 35\n",
    "Olivia Rodrigo, 22\n",
    "Tom Hanks, 68\n",
    "Meryl Streep, 75\n",
    "Create a dictionary called celebrity_ages that uses each celebrity’s name as a key and their age as the value. Then:\n",
    "\n",
    "Print the entire dictionary\n",
    "Print Zendaya’s age"
   ]
  },
  {
   "cell_type": "code",
   "execution_count": 5,
   "id": "13ffcdeb-1565-49f2-9902-739946419db7",
   "metadata": {},
   "outputs": [
    {
     "name": "stdout",
     "output_type": "stream",
     "text": [
      "{'Taylor Swift': 35, 'Olivia Rodrigo': 22, 'Tom Hanks': 69, 'Meryl Streep': 75}\n"
     ]
    }
   ],
   "source": [
    "celebrity_ages = {\n",
    "    \"Taylor Swift\": 35,\n",
    "    \"Olivia Rodrigo\": 22,\n",
    "    \"Tom Hanks\": 69,\n",
    "    \"Meryl Streep\": 75\n",
    "}\n",
    "\n",
    "print(celebrity_ages)"
   ]
  },
  {
   "cell_type": "code",
   "execution_count": 6,
   "id": "71ae3a93-a4df-4810-9bd3-fd2133ad9387",
   "metadata": {},
   "outputs": [
    {
     "name": "stdout",
     "output_type": "stream",
     "text": [
      "22\n"
     ]
    }
   ],
   "source": [
    "olivias_age = celebrity_ages[\"Olivia Rodrigo\"]\n",
    "print(olivias_age)"
   ]
  },
  {
   "cell_type": "code",
   "execution_count": 7,
   "id": "7ac9cd30-434e-4bac-a186-9e9f44033b4b",
   "metadata": {},
   "outputs": [
    {
     "name": "stdout",
     "output_type": "stream",
     "text": [
      "Olivia Rodrigo is 22 years old.\n"
     ]
    }
   ],
   "source": [
    "print(f\"Olivia Rodrigo is {olivias_age} years old.\")"
   ]
  },
  {
   "cell_type": "code",
   "execution_count": 8,
   "id": "dbfb03a8-97a5-4cf1-bb8d-ae2dccea9287",
   "metadata": {},
   "outputs": [
    {
     "name": "stdout",
     "output_type": "stream",
     "text": [
      "{'Patrick Murphy': 45, 'Mary Kelly': 23, 'Thomas Williams': 16, 'Elizabeth Smith': 34, 'Michael Sullivan': 64}\n"
     ]
    }
   ],
   "source": [
    "# Add a new person to our ages dictionary\n",
    "ages_dict[\"Michael Sullivan\"] = 64\n",
    "print(ages_dict)\n"
   ]
  },
  {
   "cell_type": "code",
   "execution_count": 9,
   "id": "448e2815-3efa-41e7-aed8-32c7e1555709",
   "metadata": {},
   "outputs": [
    {
     "name": "stdout",
     "output_type": "stream",
     "text": [
      "Updated age for Thomas: 17\n"
     ]
    }
   ],
   "source": [
    "# Change someone's age\n",
    "ages_dict[\"Thomas Williams\"] = 17  # Thomas just had a birthday!\n",
    "print(f\"Updated age for Thomas: {ages_dict['Thomas Williams']}\")\n"
   ]
  },
  {
   "cell_type": "markdown",
   "id": "68c93b47-7c9f-4ad5-917c-2feec45a5a53",
   "metadata": {},
   "source": [
    "Practice: Modifying Your DictionaryPermalink\n",
    "Add one new entry to your celebrity dictionary of any celebrity you want with their age\n",
    "Change the age of one celebrity from your dictionary\n",
    "Print the updated dictionary"
   ]
  },
  {
   "cell_type": "code",
   "execution_count": 11,
   "id": "5fa5244a-b0c2-41c9-ad66-477fa15d415f",
   "metadata": {},
   "outputs": [],
   "source": [
    "celebrity_ages[\"David Lynch\"] = 78"
   ]
  },
  {
   "cell_type": "code",
   "execution_count": 12,
   "id": "4c2bdb85-21cf-4442-8053-c4f03691e1cc",
   "metadata": {},
   "outputs": [
    {
     "name": "stdout",
     "output_type": "stream",
     "text": [
      "{'Taylor Swift': 35, 'Olivia Rodrigo': 22, 'Tom Hanks': 69, 'Meryl Streep': 75, 'David Lynch': 78}\n"
     ]
    }
   ],
   "source": [
    "print(celebrity_ages)"
   ]
  },
  {
   "cell_type": "code",
   "execution_count": 13,
   "id": "55ea5371-8277-49fd-882f-1316d37c2167",
   "metadata": {},
   "outputs": [],
   "source": [
    "celebrity_ages[\"Taylor Swift\"] = 36"
   ]
  },
  {
   "cell_type": "code",
   "execution_count": 14,
   "id": "3897bc64-f9dc-4f05-a6e2-28c2dcbfd059",
   "metadata": {},
   "outputs": [
    {
     "name": "stdout",
     "output_type": "stream",
     "text": [
      "{'Taylor Swift': 36, 'Olivia Rodrigo': 22, 'Tom Hanks': 69, 'Meryl Streep': 75, 'David Lynch': 78}\n"
     ]
    }
   ],
   "source": [
    "print(celebrity_ages)"
   ]
  },
  {
   "cell_type": "code",
   "execution_count": 15,
   "id": "4ac93dfc-b639-49c7-80ae-ac66ff74d230",
   "metadata": {},
   "outputs": [
    {
     "name": "stdout",
     "output_type": "stream",
     "text": [
      "Patrick Murphy is 45 years old.\n",
      "Mary Kelly is 23 years old.\n",
      "Thomas Williams is 17 years old.\n",
      "Elizabeth Smith is 34 years old.\n",
      "Michael Sullivan is 64 years old.\n",
      "Patrick Murphy is 45 years old.\n",
      "Mary Kelly is 23 years old.\n",
      "Thomas Williams is 17 years old.\n",
      "Elizabeth Smith is 34 years old.\n",
      "Michael Sullivan is 64 years old.\n"
     ]
    }
   ],
   "source": [
    "# Loop through all names and ages\n",
    "for name in ages_dict:\n",
    "    print(f\"{name} is {ages_dict[name]} years old.\")\n",
    "\n",
    "# A more elegant way using the .items() method\n",
    "for name, age in ages_dict.items():\n",
    "    print(f\"{name} is {age} years old.\")\n"
   ]
  },
  {
   "cell_type": "code",
   "execution_count": 16,
   "id": "39cba3a1-4540-4ae1-a579-6802fd615e46",
   "metadata": {},
   "outputs": [
    {
     "name": "stdout",
     "output_type": "stream",
     "text": [
      "Patrick Murphy is 45 years old.\n",
      "Elizabeth Smith is 34 years old.\n",
      "Michael Sullivan is 64 years old.\n"
     ]
    }
   ],
   "source": [
    "# Find all people over 30\n",
    "for name, age in ages_dict.items():\n",
    "    if age > 30:\n",
    "        print(f\"{name} is {age} years old.\")\n"
   ]
  },
  {
   "cell_type": "markdown",
   "id": "3d6f6ca8-6f14-4c13-ad84-448803829fc1",
   "metadata": {},
   "source": [
    "Practice: Printing Age CohortsPermalink\n",
    "Use the .items() method to loop through your dictionary of celebrities. Use a series of if and elif conditionals to print out, for each celebrity, which age cohort they fall in:\n",
    "\n",
    "Gen Z: 13-28\n",
    "Millenial: 29-44\n",
    "Boomer: 61-79"
   ]
  },
  {
   "cell_type": "code",
   "execution_count": 18,
   "id": "73f92577-2b0e-4aec-adb1-bd25602341d7",
   "metadata": {},
   "outputs": [
    {
     "name": "stdout",
     "output_type": "stream",
     "text": [
      "Taylor Swift is a Millenial.\n",
      "Olivia Rodrigo is Gen Z.\n",
      "Tom Hanks is a Boomer.\n",
      "Meryl Streep is a Boomer.\n",
      "David Lynch is a Boomer.\n"
     ]
    }
   ],
   "source": [
    "for name, age in celebrity_ages.items():\n",
    "    if age > 13 and age < 28:\n",
    "        print(f\"{name} is Gen Z.\")\n",
    "    elif age > 29 and age < 44 :\n",
    "        print(f\"{name} is a Millenial.\")\n",
    "    elif age > 61 and age < 79:\n",
    "        print(f\"{name} is a Boomer.\")"
   ]
  },
  {
   "cell_type": "code",
   "execution_count": 19,
   "id": "4d2cae3d-e2f8-4b38-be95-423c495c94e8",
   "metadata": {},
   "outputs": [],
   "source": [
    "# Create one dictionary with all information about each person\n",
    "census_data = {\n",
    "    \"Patrick Murphy\": {\n",
    "        \"age\": 45,\n",
    "        \"birth_place\": \"Ireland\",\n",
    "        \"occupation\": \"farmer\"\n",
    "    },\n",
    "    \"Mary Kelly\": {\n",
    "        \"age\": 23,\n",
    "        \"birth_place\": \"Ireland\",\n",
    "        \"occupation\": \"servant\"\n",
    "    },\n",
    "    \"Thomas Williams\": {\n",
    "        \"age\": 17,\n",
    "        \"birth_place\": \"Wales\",\n",
    "        \"occupation\": \"laborer\"\n",
    "    },\n",
    "    \"Elizabeth Smith\": {\n",
    "    \"age\": 34,\n",
    "    \"birth_place\": \"England\",\n",
    "    \"occupation\": \"servant\"\n",
    "    }\n",
    "}\n"
   ]
  },
  {
   "cell_type": "code",
   "execution_count": 20,
   "id": "dfc6b25a-fc83-4357-8679-62a7f1405e94",
   "metadata": {},
   "outputs": [
    {
     "name": "stdout",
     "output_type": "stream",
     "text": [
      "{'age': 45, 'birth_place': 'Ireland', 'occupation': 'farmer'}\n",
      "farmer\n"
     ]
    }
   ],
   "source": [
    "# Access data from our nested dictionary\n",
    "print(census_data[\"Patrick Murphy\"])\n",
    "print(census_data[\"Patrick Murphy\"][\"occupation\"])\n"
   ]
  },
  {
   "cell_type": "code",
   "execution_count": 38,
   "id": "ddeedf23-4d5f-47a9-b6ae-e6baac8a656a",
   "metadata": {},
   "outputs": [],
   "source": [
    "# Here are our lists of data\n",
    "names = [\"Patrick Murphy\", \"Mary Kelly\", \"Thomas Williams\", \"Elizabeth Smith\", \"Michael Sullivan\",\n",
    "         \"Anna Schmidt\", \"William Johnson\", \"James O'Connor\", \"Bridget Walsh\", \"Robert Campbell\",\n",
    "         \"Catherine Miller\", \"George Thompson\", \"Sean O'Neill\", \"David Jones\", \"Kevin Burke\",\n",
    "         \"Margaret Wilson\", \"Donald Fraser\", \"Eileen Doyle\", \"Frieda Weber\", \"Timothy Ryan\"]\n",
    "\n",
    "ages = [45, 23, 16, 34, 64, 28, 42, 31, 27, 38, 17, 52, 29, 44, 33, 15, 61, 36, 18, 41]\n",
    "\n",
    "birth_places = ['Ireland', 'Ireland', 'New York', 'England', 'Ireland', 'Germany', 'New York',\n",
    "               'Ireland', 'Ireland', 'Scotland', 'Ireland', 'England', 'Ireland', 'Wales',\n",
    "               'Ireland', 'Ireland', 'Scotland', 'Ireland', 'Germany', 'Ireland']\n",
    "\n",
    "occupations = ['farmer', 'servant', 'laborer', 'merchant', 'farmer', 'servant', 'teacher', 'farmer',\n",
    "              'laborer', 'merchant', 'servant', 'farmer', 'laborer', 'blacksmith', 'carpenter',\n",
    "              'servant', 'farmer', 'weaver', 'servant', 'carpenter']\n"
   ]
  },
  {
   "cell_type": "code",
   "execution_count": 40,
   "id": "b4650853-b853-49a6-b21f-49aad7de71c0",
   "metadata": {},
   "outputs": [],
   "source": [
    "# Start with an empty dictionary\n",
    "auto_census = {}\n",
    "\n",
    "# Loop through the lists to create our nested dictionary\n",
    "for i in range(len(names)):\n",
    "    # Extract the data for this person and temporarily put the data into a series of variables\n",
    "    name = names[i]\n",
    "    age = ages[i]\n",
    "    birth_place = birth_places[i]\n",
    "    occupation = occupations[i]\n",
    "\n",
    "    # Create the nested dictionary for this person\n",
    "    auto_census[name] = {\n",
    "        \"age\": age,\n",
    "        \"birth_place\": birth_place,\n",
    "        \"occupation\": occupation\n",
    "    }\n"
   ]
  },
  {
   "cell_type": "code",
   "execution_count": 42,
   "id": "971c0649-aab9-44ce-aeb3-ecd9310ec5c7",
   "metadata": {},
   "outputs": [
    {
     "data": {
      "text/plain": [
       "{'Patrick Murphy': {'age': 45,\n",
       "  'birth_place': 'Ireland',\n",
       "  'occupation': 'farmer'},\n",
       " 'Mary Kelly': {'age': 23, 'birth_place': 'Ireland', 'occupation': 'servant'},\n",
       " 'Thomas Williams': {'age': 16,\n",
       "  'birth_place': 'New York',\n",
       "  'occupation': 'laborer'},\n",
       " 'Elizabeth Smith': {'age': 34,\n",
       "  'birth_place': 'England',\n",
       "  'occupation': 'merchant'},\n",
       " 'Michael Sullivan': {'age': 64,\n",
       "  'birth_place': 'Ireland',\n",
       "  'occupation': 'farmer'},\n",
       " 'Anna Schmidt': {'age': 28,\n",
       "  'birth_place': 'Germany',\n",
       "  'occupation': 'servant'},\n",
       " 'William Johnson': {'age': 42,\n",
       "  'birth_place': 'New York',\n",
       "  'occupation': 'teacher'},\n",
       " \"James O'Connor\": {'age': 31,\n",
       "  'birth_place': 'Ireland',\n",
       "  'occupation': 'farmer'},\n",
       " 'Bridget Walsh': {'age': 27,\n",
       "  'birth_place': 'Ireland',\n",
       "  'occupation': 'laborer'},\n",
       " 'Robert Campbell': {'age': 38,\n",
       "  'birth_place': 'Scotland',\n",
       "  'occupation': 'merchant'},\n",
       " 'Catherine Miller': {'age': 17,\n",
       "  'birth_place': 'Ireland',\n",
       "  'occupation': 'servant'},\n",
       " 'George Thompson': {'age': 52,\n",
       "  'birth_place': 'England',\n",
       "  'occupation': 'farmer'},\n",
       " \"Sean O'Neill\": {'age': 29,\n",
       "  'birth_place': 'Ireland',\n",
       "  'occupation': 'laborer'},\n",
       " 'David Jones': {'age': 44,\n",
       "  'birth_place': 'Wales',\n",
       "  'occupation': 'blacksmith'},\n",
       " 'Kevin Burke': {'age': 33,\n",
       "  'birth_place': 'Ireland',\n",
       "  'occupation': 'carpenter'},\n",
       " 'Margaret Wilson': {'age': 15,\n",
       "  'birth_place': 'Ireland',\n",
       "  'occupation': 'servant'},\n",
       " 'Donald Fraser': {'age': 61,\n",
       "  'birth_place': 'Scotland',\n",
       "  'occupation': 'farmer'},\n",
       " 'Eileen Doyle': {'age': 36, 'birth_place': 'Ireland', 'occupation': 'weaver'},\n",
       " 'Frieda Weber': {'age': 18,\n",
       "  'birth_place': 'Germany',\n",
       "  'occupation': 'servant'},\n",
       " 'Timothy Ryan': {'age': 41,\n",
       "  'birth_place': 'Ireland',\n",
       "  'occupation': 'carpenter'}}"
      ]
     },
     "execution_count": 42,
     "metadata": {},
     "output_type": "execute_result"
    }
   ],
   "source": [
    "auto_census"
   ]
  },
  {
   "cell_type": "code",
   "execution_count": null,
   "id": "627e54f1-52c9-43c8-a060-62990e8998b0",
   "metadata": {},
   "outputs": [],
   "source": []
  }
 ],
 "metadata": {
  "kernelspec": {
   "display_name": "Python [conda env:base] *",
   "language": "python",
   "name": "conda-base-py"
  },
  "language_info": {
   "codemirror_mode": {
    "name": "ipython",
    "version": 3
   },
   "file_extension": ".py",
   "mimetype": "text/x-python",
   "name": "python",
   "nbconvert_exporter": "python",
   "pygments_lexer": "ipython3",
   "version": "3.12.7"
  }
 },
 "nbformat": 4,
 "nbformat_minor": 5
}
