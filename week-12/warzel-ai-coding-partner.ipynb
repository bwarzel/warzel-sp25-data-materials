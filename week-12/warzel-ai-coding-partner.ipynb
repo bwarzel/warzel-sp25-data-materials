{
 "cells": [
  {
   "cell_type": "code",
   "execution_count": 11,
   "id": "ce0c932a-341b-4fa6-962e-3579d436b063",
   "metadata": {},
   "outputs": [
    {
     "name": "stdout",
     "output_type": "stream",
     "text": [
      "Requirement already satisfied: beautifulsoup4 in /opt/anaconda3/lib/python3.12/site-packages (4.12.3)\n",
      "Requirement already satisfied: soupsieve>1.2 in /opt/anaconda3/lib/python3.12/site-packages (from beautifulsoup4) (2.5)\n"
     ]
    }
   ],
   "source": [
    "!pip install beautifulsoup4"
   ]
  },
  {
   "cell_type": "code",
   "execution_count": 13,
   "id": "5266f9f8-9f12-4cf9-a2b6-d5ef497674d2",
   "metadata": {},
   "outputs": [],
   "source": [
    "import re\n",
    "from bs4 import BeautifulSoup\n",
    "import pandas as pd\n"
   ]
  },
  {
   "cell_type": "code",
   "execution_count": 15,
   "id": "411dd53a-b959-4d5a-889b-825f7ab70083",
   "metadata": {},
   "outputs": [],
   "source": [
    "with open(\"female-detainee-cases.html\", \"r\", encoding=\"utf-8\") as f:\n",
    "    html = f.read()\n",
    "soup = BeautifulSoup(html, \"html.parser\")\n"
   ]
  },
  {
   "cell_type": "code",
   "execution_count": 21,
   "id": "19d385f6-ad87-4c6d-ae78-1eb0fe51745c",
   "metadata": {},
   "outputs": [],
   "source": [
    "anchors = soup.find_all(\"a\", href=True)\n",
    "# Keep only hrefs like \"1234.html\"\n",
    "case_links = [a for a in anchors if re.fullmatch(r\"\\d+\\.html\", a[\"href\"])]\n"
   ]
  },
  {
   "cell_type": "code",
   "execution_count": 23,
   "id": "8de8f1e1-0e8c-40bd-9674-6cada6ca3819",
   "metadata": {},
   "outputs": [],
   "source": [
    "records = []\n",
    "pattern = re.compile(r\"^Case\\s+(\\d+)\\s+(.*)$\")\n",
    "for a in case_links:\n",
    "    href_num = int(a[\"href\"].split(\".\")[0])\n",
    "    text = a.get_text(strip=True)\n",
    "    m = pattern.match(text)\n",
    "    if m:\n",
    "        text_num = int(m.group(1))\n",
    "        name = m.group(2)\n",
    "    else:\n",
    "        # unexpected format\n",
    "        text_num = None\n",
    "        name = text\n",
    "    records.append({\n",
    "        \"href\": a[\"href\"],\n",
    "        \"case_id_href\": href_num,\n",
    "        \"case_id_text\": text_num,\n",
    "        \"name\": name,\n",
    "        \"flag_mismatch\": (text_num is not None and text_num != href_num)\n",
    "    })\n"
   ]
  },
  {
   "cell_type": "code",
   "execution_count": 27,
   "id": "9fe33827-150b-4a27-98da-19ff420e8599",
   "metadata": {},
   "outputs": [],
   "source": [
    "df = pd.DataFrame(records)\n",
    "# Normalize whitespace in names\n",
    "df[\"name\"] = df[\"name\"].str.replace(r\"\\s+\", \" \", regex=True).str.strip()\n",
    "# Drop intermediate columns if you like, or keep them for audit\n"
   ]
  },
  {
   "cell_type": "code",
   "execution_count": 29,
   "id": "6ca0ce84-8e7f-4c50-ad9d-fd35996fc870",
   "metadata": {},
   "outputs": [],
   "source": [
    "df.to_csv(\"female_detainee_cases.csv\", index=False)\n"
   ]
  },
  {
   "cell_type": "code",
   "execution_count": null,
   "id": "c2e9ee99-0185-4285-b6f3-df9e293ab62f",
   "metadata": {},
   "outputs": [],
   "source": []
  }
 ],
 "metadata": {
  "kernelspec": {
   "display_name": "Python [conda env:base] *",
   "language": "python",
   "name": "conda-base-py"
  },
  "language_info": {
   "codemirror_mode": {
    "name": "ipython",
    "version": 3
   },
   "file_extension": ".py",
   "mimetype": "text/x-python",
   "name": "python",
   "nbconvert_exporter": "python",
   "pygments_lexer": "ipython3",
   "version": "3.12.7"
  }
 },
 "nbformat": 4,
 "nbformat_minor": 5
}
